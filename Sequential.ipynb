{
  "nbformat": 4,
  "nbformat_minor": 0,
  "metadata": {
    "colab": {
      "name": "Untitled1.ipynb",
      "provenance": [],
      "authorship_tag": "ABX9TyPSmMkr+Em63dcqvVaCDluk",
      "include_colab_link": true
    },
    "kernelspec": {
      "name": "python3",
      "display_name": "Python 3"
    },
    "language_info": {
      "name": "python"
    }
  },
  "cells": [
    {
      "cell_type": "markdown",
      "metadata": {
        "id": "view-in-github",
        "colab_type": "text"
      },
      "source": [
        "<a href=\"https://colab.research.google.com/github/Mariyaben/rap/blob/main/Sequential.ipynb\" target=\"_parent\"><img src=\"https://colab.research.google.com/assets/colab-badge.svg\" alt=\"Open In Colab\"/></a>"
      ]
    },
    {
      "cell_type": "markdown",
      "source": [
        "# **Sequential Programs**"
      ],
      "metadata": {
        "id": "2St9vFAPs49n"
      }
    },
    {
      "cell_type": "markdown",
      "source": [
        "### **1. Program to print the average of three numbers**"
      ],
      "metadata": {
        "id": "k93hCGnutAII"
      }
    },
    {
      "cell_type": "code",
      "execution_count": null,
      "metadata": {
        "colab": {
          "base_uri": "https://localhost:8080/"
        },
        "id": "J7xlijhaouKY",
        "outputId": "602b33fd-2d24-4cef-f54d-ee6ccca4de05"
      },
      "outputs": [
        {
          "output_type": "stream",
          "name": "stdout",
          "text": [
            " Please Enter the First Number: 3\n",
            " Please Enter the second number: 6\n",
            " Please Enter the third number: 9\n",
            "The average of three numbers is  6.0\n"
          ]
        }
      ],
      "source": [
        "a = int (input(\" Please Enter the First Number: \")) \n",
        "\n",
        "b = int (input(\" Please Enter the second number: \"))\n",
        "\n",
        "c = int (input(\" Please Enter the third number: \"))\n",
        "\n",
        "average=(a+b+c)/3\n",
        "\n",
        "print(\"The average of three numbers is \", average)"
      ]
    },
    {
      "cell_type": "markdown",
      "source": [
        "## **2.** **Program to print sum and average of three numbers**"
      ],
      "metadata": {
        "id": "9PCVzYdgtQl6"
      }
    },
    {
      "cell_type": "code",
      "source": [
        "num1 = int(input(\"Please Enter the First Number  = \"))\n",
        "num2 = int(input(\"Please Enter the Second number = \"))\n",
        "num3 = int(input(\"Please Enter the Third number  = \"))\n",
        "\n",
        "\n",
        "sumOfThree = num1 + num2 + num3\n",
        "\n",
        "avgOfThree = sumOfThree / 3\n",
        "\n",
        "print('The sum of {0}, {1} and {2} = {3}'.format(num1,num2, num3, sumOfThree))\n",
        "print('The Average of {0}, {1} and {2} = {3}'.format(num1,num2, num3, avgOfThree))"
      ],
      "metadata": {
        "colab": {
          "base_uri": "https://localhost:8080/"
        },
        "id": "AE2LJBzBo6P6",
        "outputId": "6fdf4c3b-5860-454f-bf59-b29e39259c6e"
      },
      "execution_count": null,
      "outputs": [
        {
          "output_type": "stream",
          "name": "stdout",
          "text": [
            "Please Enter the First Number  = 7\n",
            "Please Enter the Second number = 3\n",
            "Please Enter the Third number  = 99\n",
            "The sum of 7, 3 and 99 = 109\n",
            "The Average of 7, 3 and 99 = 36.333333333333336\n"
          ]
        }
      ]
    },
    {
      "cell_type": "markdown",
      "source": [
        "## **3.** **Program to Convert the Time entered in Seconds to Hours,Minutes,Seconds**"
      ],
      "metadata": {
        "id": "CV2XMzYLtal7"
      }
    },
    {
      "cell_type": "code",
      "source": [
        "time = float(input(\"Input time in seconds: \"))\n",
        "day = time // (24 * 3600)\n",
        "time = time % (24 * 3600)\n",
        "hour = time // 3600\n",
        "time %= 3600\n",
        "minutes = time // 60\n",
        "time %= 60\n",
        "seconds = time\n",
        "print(\"d:h:m:s-> %d:%d:%d:%d\" % (day, hour, minutes, seconds))\n"
      ],
      "metadata": {
        "colab": {
          "base_uri": "https://localhost:8080/"
        },
        "id": "7Qz2_IJZpGlM",
        "outputId": "1cb0fcfb-95b1-4516-d58d-b1d9bb57bb3c"
      },
      "execution_count": null,
      "outputs": [
        {
          "output_type": "stream",
          "name": "stdout",
          "text": [
            "Input time in seconds: 6778\n",
            "d:h:m:s-> 0:1:52:58\n"
          ]
        }
      ]
    },
    {
      "cell_type": "markdown",
      "source": [
        "### **4. Program to print Area and Perimeter of a Triangle**"
      ],
      "metadata": {
        "id": "c0UAPEUUtnyV"
      }
    },
    {
      "cell_type": "code",
      "source": [
        "a = float(input('Enter first side: '))  \n",
        "b = float(input('Enter second side: '))  \n",
        "c = float(input('Enter third side: '))  \n",
        "\n",
        "s = (a + b + c) / 2  \n",
        " \n",
        "area = (s*(s-a)*(s-b)*(s-c)) ** 0.5  \n",
        "print('The area of the triangle is %0.2f' %area)   "
      ],
      "metadata": {
        "colab": {
          "base_uri": "https://localhost:8080/"
        },
        "id": "PzZDw_EhqEO3",
        "outputId": "5b294dc0-ec1c-4fff-f701-76367c07cdc2"
      },
      "execution_count": null,
      "outputs": [
        {
          "output_type": "stream",
          "name": "stdout",
          "text": [
            "Enter first side: 6\n",
            "Enter second side: 4\n",
            "Enter third side: 5\n",
            "The area of the triangle is 9.92\n"
          ]
        }
      ]
    },
    {
      "cell_type": "markdown",
      "source": [
        "### **5. Program to print area of circle**"
      ],
      "metadata": {
        "id": "Vd8qBa4Otxhz"
      }
    },
    {
      "cell_type": "code",
      "source": [
        "r = float(input(\"Enter the radius of a circle:\"))\n",
        "area = 3.14 * r * r\n",
        "print(\"Area of a circle = %.2f\" %area)"
      ],
      "metadata": {
        "colab": {
          "base_uri": "https://localhost:8080/"
        },
        "id": "VTbaEMbTq1cB",
        "outputId": "ed61433c-4989-4179-9b44-6b4494e562db"
      },
      "execution_count": null,
      "outputs": [
        {
          "output_type": "stream",
          "name": "stdout",
          "text": [
            "Enter the radius of a circle:5\n",
            "Area of a circle = 78.50\n"
          ]
        }
      ]
    },
    {
      "cell_type": "markdown",
      "source": [
        "### **6. Program  to enter two unequal number and interchange them without using a third variable.**"
      ],
      "metadata": {
        "id": "-Eee6DyEt6XP"
      }
    },
    {
      "cell_type": "code",
      "source": [
        "x = int(input(\"Enter the value of x?\"))  \n",
        "y = int(input(\"Enter the value of y?\"))  \n",
        "print(\"before swapping numbers: %d   %d\\n\" %(x,y))  \n",
        "#swapping#  \n",
        "x = x + y     \n",
        "y = x - y    \n",
        "x = x - y     \n",
        "print(\"After swapping: %d   %d\\n\"%(x,y))  "
      ],
      "metadata": {
        "colab": {
          "base_uri": "https://localhost:8080/"
        },
        "id": "yYDed7D5rZFc",
        "outputId": "10f3e084-f58f-456a-b0e3-ac63a5fe8ac5"
      },
      "execution_count": null,
      "outputs": [
        {
          "output_type": "stream",
          "name": "stdout",
          "text": [
            "Enter the value of x?55\n",
            "Enter the value of y?88\n",
            "before swapping numbers: 55   88\n",
            "\n",
            "After swapping: 88   55\n",
            "\n"
          ]
        }
      ]
    },
    {
      "cell_type": "markdown",
      "source": [
        "### **7. Program to display sum, difference, product, quotient and remainder of two unequal numbers.**"
      ],
      "metadata": {
        "id": "R6DE3VRdujVW"
      }
    },
    {
      "cell_type": "code",
      "source": [
        "n1 = float(input(\"Enter First Number: \"))\n",
        "n2 = float(input(\"Enter Second Number: \"))\n",
        "\n",
        "print(\"Sum =\", n1+n2)\n",
        "print(\"Difference =\", n1-n2)\n",
        "print(\"Product =\", n1*n2)\n",
        "print(\"Quotient =\", n1/n2)\n"
      ],
      "metadata": {
        "colab": {
          "base_uri": "https://localhost:8080/"
        },
        "id": "-vroQLAQrxlR",
        "outputId": "e6b94f60-e5a1-4158-99c3-81df2e478f77"
      },
      "execution_count": null,
      "outputs": [
        {
          "output_type": "stream",
          "name": "stdout",
          "text": [
            "Enter First Number: 66\n",
            "Enter Second Number: 6\n",
            "Sum = 72.0\n",
            "Difference = 60.0\n",
            "Product = 396.0\n",
            "Quotient = 11.0\n"
          ]
        }
      ]
    },
    {
      "cell_type": "markdown",
      "source": [
        "### **8. Program to Write a program to enter the number of days and display into years, months and days.**"
      ],
      "metadata": {
        "id": "JE2f5Yrluslq"
      }
    },
    {
      "cell_type": "code",
      "source": [
        "days=int(input(\"Enter Day:\"))\n",
        "\n",
        "years =(int) (days / 365)\n",
        "weeks =(int) (days / 7)\n",
        "months =(int) (days / 30)\n",
        "\n",
        "print(\"Days to Years:\",years)\n",
        "print(\"Days to Weeks:\",weeks)\n",
        "print(\"Days to Months:\",months)"
      ],
      "metadata": {
        "colab": {
          "base_uri": "https://localhost:8080/"
        },
        "id": "VP7Sw2r-vCSN",
        "outputId": "0b94092a-5220-4221-f73f-8c22c9451d25"
      },
      "execution_count": null,
      "outputs": [
        {
          "output_type": "stream",
          "name": "stdout",
          "text": [
            "Enter Day:369\n",
            "Days to Years: 1\n",
            "Days to Weeks: 52\n",
            "Days to Months: 12\n"
          ]
        }
      ]
    }
  ]
}