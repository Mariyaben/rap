{
  "nbformat": 4,
  "nbformat_minor": 0,
  "metadata": {
    "colab": {
      "name": "Untitled0.ipynb",
      "provenance": [],
      "collapsed_sections": [],
      "authorship_tag": "ABX9TyOLntEcq/Ph5bnXb+8DlpCy",
      "include_colab_link": true
    },
    "kernelspec": {
      "name": "python3",
      "display_name": "Python 3"
    },
    "language_info": {
      "name": "python"
    }
  },
  "cells": [
    {
      "cell_type": "markdown",
      "metadata": {
        "id": "view-in-github",
        "colab_type": "text"
      },
      "source": [
        "<a href=\"https://colab.research.google.com/github/Mariyaben/rap/blob/main/Untitled0.ipynb\" target=\"_parent\"><img src=\"https://colab.research.google.com/assets/colab-badge.svg\" alt=\"Open In Colab\"/></a>"
      ]
    },
    {
      "cell_type": "markdown",
      "source": [
        "## **Specifying a Class**\n",
        "A class is a way to bind the data and its associated functions together. It allows the data to be hidden, if necessary, from external use. When defining a class, we are creating a new abstract data type that can be treated like any other built-in data type. \n",
        "Some points on Python class:  \n",
        "\n",
        "\n",
        "\n",
        "1.  Classes are created by keyword class.\n",
        "2.  Attributes are the variables that belong to a class. \n",
        "3.  Attributes are always public and can be accessed using the dot (.) operator. Eg.: Myclass.Myattribute \n",
        "\n",
        "\n"
      ],
      "metadata": {
        "id": "TmSna5FFt2ns"
      }
    },
    {
      "cell_type": "code",
      "source": [
        "#Class Definition Syntax:\n",
        "\n",
        "class ClassName:\n",
        "    # Statement-1\n",
        "    .\n",
        "    .\n",
        "    .\n",
        "    # Statement-N;"
      ],
      "metadata": {
        "id": "-gm9U9AvG67s"
      },
      "execution_count": null,
      "outputs": []
    },
    {
      "cell_type": "markdown",
      "source": [
        "## Defining a Class"
      ],
      "metadata": {
        "id": "aQ-PlivUHY_9"
      }
    },
    {
      "cell_type": "code",
      "source": [
        "# Python3 program to\n",
        "# demonstrate defining\n",
        "# a class\n",
        "\n",
        "class Dog:\n",
        "\tpass\n"
      ],
      "metadata": {
        "id": "j996Zl8OHhqE"
      },
      "execution_count": 17,
      "outputs": []
    },
    {
      "cell_type": "markdown",
      "source": [
        "## **Creating Objects**\n",
        "An Object is an instance of a Class. A class is like a blueprint while an instance is a copy of the class with actual values. It’s not an idea anymore, it’s an actual dog, like a dog of breed pug who’s seven years old. You can have many dogs to create many different instances, but without the class as a guide, you would be lost, not knowing what information is required.\n",
        "An object consists of : \n",
        "\n",
        "\n",
        "1.   State: It is represented by the attributes of an object. It also reflects the properties of an object.\n",
        "\n",
        "\n",
        "2.  Behavior: It is represented by the methods of an object. It also reflects the response of an object to other objects.\n",
        "\n",
        "3. Identity: It gives a unique name to an object and enables one object to interact with other objects\n",
        "\n"
      ],
      "metadata": {
        "id": "unDvpqWZIRQT"
      }
    },
    {
      "cell_type": "markdown",
      "source": [
        "## **Declaring objects**"
      ],
      "metadata": {
        "id": "rvbCEOCsWiIv"
      }
    },
    {
      "cell_type": "code",
      "source": [
        "# Python3 program to\n",
        "# demonstrate instantiating\n",
        "# a class\n",
        "\n",
        "\n",
        "class Dog:\n",
        "\t\n",
        "\t# A simple class\n",
        "\t# attribute\n",
        "\tattr1 = \"mammal\"\n",
        "\tattr2 = \"dog\"\n",
        "\n",
        "\t# A sample method\n",
        "\tdef fun(self):\n",
        "\t\tprint(\"I'm a\", self.attr1)\n",
        "\t\tprint(\"I'm a\", self.attr2)\n",
        "\n",
        "# Driver code\n",
        "# Object instantiation\n",
        "Rodger = Dog()\n",
        "\n",
        "# Accessing class attributes\n",
        "# and method through objects\n",
        "print(Rodger.attr1)\n",
        "Rodger.fun()\n"
      ],
      "metadata": {
        "colab": {
          "base_uri": "https://localhost:8080/"
        },
        "id": "EA1NLqQ2ImqS",
        "outputId": "d0d7343c-cd56-4598-c817-cc611972295f"
      },
      "execution_count": 16,
      "outputs": [
        {
          "output_type": "stream",
          "name": "stdout",
          "text": [
            "mammal\n",
            "I'm a mammal\n",
            "I'm a dog\n"
          ]
        }
      ]
    },
    {
      "cell_type": "markdown",
      "source": [
        "## **Public Access Modifier:**\n",
        "The members of a class that are declared public are easily accessible from any part of the program. All data members and member functions of a class are public by default. "
      ],
      "metadata": {
        "id": "s9lWLZpHJ0a_"
      }
    },
    {
      "cell_type": "code",
      "source": [
        "# program to illustrate public access modifier in a class\n",
        "\n",
        "class Geek:\n",
        "\t\n",
        "\t# constructor\n",
        "\tdef __init__(self, name, age):\n",
        "\t\t\n",
        "\t\t# public data members\n",
        "\t\tself.Name = name\n",
        "\t\tself.Age = age\n",
        "\n",
        "\t# public member function\t\n",
        "\tdef displayAge(self):\n",
        "\t\t\n",
        "\t\t# accessing public data member\n",
        "\t\tprint(\"Age: \", self.Age)\n",
        "\n",
        "# creating object of the class\n",
        "obj = Geek(\"MB\", 19)\n",
        "\n",
        "# accessing public data member\n",
        "print(\"Name: \", obj.Name)\n",
        "\n",
        "# calling public member function of the class\n",
        "obj.displayAge()\n"
      ],
      "metadata": {
        "colab": {
          "base_uri": "https://localhost:8080/"
        },
        "id": "cTrstTwsKKfg",
        "outputId": "b566e9da-1bab-4024-d0eb-f980f2a0977c"
      },
      "execution_count": 22,
      "outputs": [
        {
          "output_type": "stream",
          "name": "stdout",
          "text": [
            "Name:  MB\n",
            "Age:  19\n"
          ]
        }
      ]
    },
    {
      "cell_type": "markdown",
      "source": [
        "## **Private Access Modifier:**\n",
        "The members of a class that are declared private are accessible within the class only, private access modifier is the most secure access modifier. Data members of a class are declared private by adding a double underscore ‘__’ symbol before the data member of that class. "
      ],
      "metadata": {
        "id": "0ofgAqpbLX-Q"
      }
    },
    {
      "cell_type": "code",
      "source": [
        "# program to illustrate private access modifier in a class\n",
        "\n",
        "class Hello:\n",
        "\t\n",
        "\t# private members\n",
        "\t__name = None\n",
        "\t__roll = None\n",
        "\t__branch = None\n",
        "\n",
        "\t# constructor\n",
        "\tdef __init__(self, name, roll, branch):\n",
        "\t\tself.__name = name\n",
        "\t\tself.__roll = roll\n",
        "\t\tself.__branch = branch\n",
        "\n",
        "\t# private member function\n",
        "\tdef __displayDetails(self):\n",
        "\t\t\n",
        "\t\t# accessing private data members\n",
        "\t\tprint(\"Name: \", self.__name)\n",
        "\t\tprint(\"Roll: \", self.__roll)\n",
        "\t\tprint(\"Branch: \", self.__branch)\n",
        "\t\n",
        "\t# public member function\n",
        "\tdef accessPrivateFunction(self):\n",
        "\t\t\t\n",
        "\t\t# accessing private member function\n",
        "\t\tself.__displayDetails()\n",
        "\n",
        "# creating object\n",
        "obj = Hello(\"MB\", 4546453, \"Int MSc CS\")\n",
        "\n",
        "# calling public member function of the class\n",
        "obj.accessPrivateFunction()\n"
      ],
      "metadata": {
        "colab": {
          "base_uri": "https://localhost:8080/"
        },
        "id": "sWitYl3FLnFE",
        "outputId": "fb181b4e-b931-48a9-f007-e6c45d574ac9"
      },
      "execution_count": 24,
      "outputs": [
        {
          "output_type": "stream",
          "name": "stdout",
          "text": [
            "Name:  MB\n",
            "Roll:  4546453\n",
            "Branch:  Int MSc CS\n"
          ]
        }
      ]
    },
    {
      "cell_type": "markdown",
      "source": [
        "### **Protected Access Modifier:**\n",
        "The members of a class that are declared protected are only accessible to a class derived from it. Data members of a class are declared protected by adding a single underscore ‘_’ symbol before the data member of that class."
      ],
      "metadata": {
        "id": "PU6nMzpsYfjC"
      }
    },
    {
      "cell_type": "code",
      "source": [
        "# program to illustrate protected access modifier in a class\n",
        "\n",
        "# super class\n",
        "class Student:\n",
        "\t\n",
        "\t# protected data members\n",
        "\t_name = None\n",
        "\t_roll = None\n",
        "\t_branch = None\n",
        "\t\n",
        "\t# constructor\n",
        "\tdef __init__(self, name, roll, branch):\n",
        "\t\tself._name = name\n",
        "\t\tself._roll = roll\n",
        "\t\tself._branch = branch\n",
        "\t\n",
        "\t# protected member function\n",
        "\tdef _displayRollAndBranch(self):\n",
        "\n",
        "\t\t# accessing protected data members\n",
        "\t\tprint(\"Roll: \", self._roll)\n",
        "\t\tprint(\"Branch: \", self._branch)\n",
        "\n",
        "\n",
        "# derived class\n",
        "class Hola(Student):\n",
        "\n",
        "\t# constructor\n",
        "\tdef __init__(self, name, roll, branch):\n",
        "\t\t\t\tStudent.__init__(self, name, roll, branch)\n",
        "\t\t\n",
        "\t# public member function\n",
        "\tdef displayDetails(self):\n",
        "\t\t\t\t\n",
        "\t\t\t\t# accessing protected data members of super class\n",
        "\t\t\t\tprint(\"Name: \", self._name)\n",
        "\t\t\t\t\n",
        "\t\t\t\t# accessing protected member functions of super class\n",
        "\t\t\t\tself._displayRollAndBranch()\n",
        "\n",
        "# creating objects of the derived class\t\n",
        "obj = Hola(\"MB\", 64563352, \"Int MSc CS\")\n",
        "\n",
        "# calling public member functions of the class\n",
        "obj.displayDetails()\n"
      ],
      "metadata": {
        "colab": {
          "base_uri": "https://localhost:8080/"
        },
        "id": "J-45pcYxYoqO",
        "outputId": "1c7d5085-5fa3-40a7-bb1e-32b23323a104"
      },
      "execution_count": 25,
      "outputs": [
        {
          "output_type": "stream",
          "name": "stdout",
          "text": [
            "Name:  MB\n",
            "Roll:  64563352\n",
            "Branch:  Int MSc CS\n"
          ]
        }
      ]
    },
    {
      "cell_type": "markdown",
      "source": [
        "# **Inheritance**\n",
        "The capability of a class to derive properties and characteristics from another class is called Inheritance. \n",
        "The benefits of inheritance are: \n",
        "\n",
        "\n",
        "1.   It represents real-world relationships well.\n",
        "2.   It provides reusability of a code. We don’t have to write the same code again and again. Also, it allows us to add more features to a class without modifying it.\n",
        "3.   It is transitive in nature, which means that if class B inherits from another class A, then all the subclasses of B would automatically inherit from class A.\n",
        "\n"
      ],
      "metadata": {
        "id": "3b6AbG5sMjow"
      }
    },
    {
      "cell_type": "markdown",
      "source": [
        "## **Example for Inheritance**"
      ],
      "metadata": {
        "id": "BAiTxNH9O9vN"
      }
    },
    {
      "cell_type": "code",
      "source": [
        "# A Python program to demonstrate inheritance\n",
        "\n",
        "# Base or Super class. Note object in bracket.\n",
        "# (Generally, object is made ancestor of all classes)\n",
        "# In Python 3.x \"class Person\" is\n",
        "# equivalent to \"class Person(object)\"\n",
        "class Person(object):\n",
        "\t\n",
        "\t# Constructor\n",
        "\tdef __init__(self, name):\n",
        "\t\tself.name = name\n",
        "\n",
        "\t# To get name\n",
        "\tdef getName(self):\n",
        "\t\treturn self.name\n",
        "\n",
        "\t# To check if this person is an employee\n",
        "\tdef isEmployee(self):\n",
        "\t\treturn False\n",
        "\n",
        "\n",
        "# Inherited or Subclass (Note Person in bracket)\n",
        "class Employee(Person):\n",
        "\n",
        "\t# Here we return true\n",
        "\tdef isEmployee(self):\n",
        "\t\treturn True\n",
        "\n",
        "# Driver code\n",
        "emp = Person(\"Mariya\") # An Object of Person\n",
        "print(emp.getName(), emp.isEmployee())\n",
        "\n",
        "emp = Employee(\"Benny\") # An Object of Employee\n",
        "print(emp.getName(), emp.isEmployee())\n"
      ],
      "metadata": {
        "colab": {
          "base_uri": "https://localhost:8080/"
        },
        "id": "w_HfVHF8PE0c",
        "outputId": "6e2e2dcc-e6c7-4daa-8f27-123425e74154"
      },
      "execution_count": 26,
      "outputs": [
        {
          "output_type": "stream",
          "name": "stdout",
          "text": [
            "Mariya False\n",
            "Benny True\n"
          ]
        }
      ]
    }
  ]
}