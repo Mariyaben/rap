{
  "nbformat": 4,
  "nbformat_minor": 0,
  "metadata": {
    "colab": {
      "name": "Untitled0.ipynb",
      "provenance": [],
      "authorship_tag": "ABX9TyMx5wlnCvGU3FqKdD6QO6LN",
      "include_colab_link": true
    },
    "kernelspec": {
      "name": "python3",
      "display_name": "Python 3"
    },
    "language_info": {
      "name": "python"
    }
  },
  "cells": [
    {
      "cell_type": "markdown",
      "metadata": {
        "id": "view-in-github",
        "colab_type": "text"
      },
      "source": [
        "<a href=\"https://colab.research.google.com/github/Mariyaben/rap/blob/main/Untitled0.ipynb\" target=\"_parent\"><img src=\"https://colab.research.google.com/assets/colab-badge.svg\" alt=\"Open In Colab\"/></a>"
      ]
    },
    {
      "cell_type": "markdown",
      "source": [
        "## **Specifying a Class**\n",
        "A class is a way to bind the data and its associated functions together. It allows the data to be hidden, if necessary, from external use. When defining a class, we are creating a new abstract data type that can be treated like any other built-in data type. Generally, a class specification has two parts:\n",
        "1. Class declaration\n",
        "2. Class function definitions\n",
        "\n",
        "The general form of a class declaration is:"
      ],
      "metadata": {
        "id": "TmSna5FFt2ns"
      }
    },
    {
      "cell_type": "code",
      "source": [
        "class class_name\n",
        "{\n",
        "      private:\n",
        "            variable declarations;\n",
        "            function declarations;\n",
        "      public:\n",
        "            variable declarations;\n",
        "            function declarations;\n",
        "};"
      ],
      "metadata": {
        "colab": {
          "base_uri": "https://localhost:8080/"
        },
        "id": "-gm9U9AvG67s",
        "outputId": "4adfa61c-99de-45d6-e34a-0e5405b9c398"
      },
      "execution_count": 11,
      "outputs": [
        {
          "output_type": "stream",
          "name": "stdout",
          "text": [
            "Overwriting main.cpp\n"
          ]
        }
      ]
    },
    {
      "cell_type": "markdown",
      "source": [
        "### **A simple class example**"
      ],
      "metadata": {
        "id": "aQ-PlivUHY_9"
      }
    },
    {
      "cell_type": "code",
      "source": [
        "class item\n",
        "{\n",
        "    int number;\n",
        "    float cost;\n",
        " public:\n",
        "    void getdata(int a, float b);\n",
        "    void putdata(void);\n",
        "};"
      ],
      "metadata": {
        "id": "j996Zl8OHhqE"
      },
      "execution_count": null,
      "outputs": []
    },
    {
      "cell_type": "markdown",
      "source": [
        "## **Creating Objects**\n",
        "Once a class has been defined, we can create variables of that type using the class name.\n",
        "For example,"
      ],
      "metadata": {
        "id": "unDvpqWZIRQT"
      }
    },
    {
      "cell_type": "code",
      "source": [
        "class item\n",
        "{\n",
        "    int number;\n",
        "    float cost;\n",
        " public:\n",
        "    void getdata(int a, float b);\n",
        "    void putdata(void);\n",
        "};\n",
        "item x,y,z;"
      ],
      "metadata": {
        "id": "EA1NLqQ2ImqS"
      },
      "execution_count": null,
      "outputs": []
    },
    {
      "cell_type": "markdown",
      "source": [
        "creates variables** x,y,z** of type **item**."
      ],
      "metadata": {
        "id": "JncEr6N-JKBo"
      }
    },
    {
      "cell_type": "markdown",
      "source": [
        "## **Public and Private variables**\n",
        "A public member is accessible from anywhere outside the class but within a program. You can set and get the value of public variables without any member function.\n",
        "A private member variable or function cannot be accessed, or even viewed from outside the class. Only the class and friend functions can access private members.\n",
        "The difference between them is shown in the following example:-"
      ],
      "metadata": {
        "id": "s9lWLZpHJ0a_"
      }
    },
    {
      "cell_type": "code",
      "source": [
        "class MyClass {\n",
        "  public:    // Public access specifier\n",
        "    int x;   // Public attribute\n",
        "  private:   // Private access specifier\n",
        "    int y;   // Private attribute\n",
        "};\n",
        "\n",
        "int main() {\n",
        "  MyClass myObj;\n",
        "  myObj.x = 25;  // Allowed (public)\n",
        "  myObj.y = 50;  // Not allowed (private)\n",
        "  return 0;\n",
        "}\n"
      ],
      "metadata": {
        "id": "cTrstTwsKKfg"
      },
      "execution_count": null,
      "outputs": []
    },
    {
      "cell_type": "markdown",
      "source": [
        "### **Protected variables**\n",
        "A protected member variable or function is very similar to a private member but it provided one additional benefit that they can be accessed in child classes which are called derived classes. Example:-"
      ],
      "metadata": {
        "id": "0ofgAqpbLX-Q"
      }
    },
    {
      "cell_type": "code",
      "source": [
        "%%writefile main.cpp\n",
        "#include <iostream>\n",
        "using namespace std;\n",
        " \n",
        "class Box {\n",
        "   protected:\n",
        "      double width;\n",
        "};\n",
        " \n",
        "class SmallBox:Box { // SmallBox is the derived class.\n",
        "   public:\n",
        "      void setSmallWidth( double wid );\n",
        "      double getSmallWidth( void );\n",
        "};\n",
        " \n",
        "// Member functions of child class\n",
        "double SmallBox::getSmallWidth(void) {\n",
        "   return width ;\n",
        "}\n",
        " \n",
        "void SmallBox::setSmallWidth( double wid ) {\n",
        "   width = wid;\n",
        "}\n",
        " \n",
        "// Main function for the program\n",
        "int main() {\n",
        "   SmallBox box;\n",
        " \n",
        "   // set box width using member function\n",
        "   box.setSmallWidth(5.0);\n",
        "   cout << \"Width of box : \"<< box.getSmallWidth() << endl;\n",
        " \n",
        "   return 0;\n",
        "}"
      ],
      "metadata": {
        "colab": {
          "base_uri": "https://localhost:8080/"
        },
        "id": "sWitYl3FLnFE",
        "outputId": "e257638c-2116-4a4c-9d05-a81cfb9396bb"
      },
      "execution_count": 12,
      "outputs": [
        {
          "output_type": "stream",
          "name": "stdout",
          "text": [
            "Overwriting main.cpp\n"
          ]
        }
      ]
    },
    {
      "cell_type": "code",
      "source": [
        "%%script bash\n",
        "\n",
        "g++ main.cpp -std=c++11\n",
        "./a.out"
      ],
      "metadata": {
        "colab": {
          "base_uri": "https://localhost:8080/"
        },
        "id": "TW1rVK5-Lx8T",
        "outputId": "c595a966-cb86-42e8-b5ea-b51dd6e05434"
      },
      "execution_count": 13,
      "outputs": [
        {
          "output_type": "stream",
          "name": "stdout",
          "text": [
            "Width of box : 5\n"
          ]
        }
      ]
    },
    {
      "cell_type": "markdown",
      "source": [
        "# **Inheritance**\n",
        "The capability of a class to derive properties and characteristics from another class is called Inheritance. Inheritance is one of the most important feature of Object Oriented Programming. \n",
        "**Sub Class:** The class that inherits properties from another class is called Sub class or Derived Class. \n",
        "Super Class: The class whose properties are inherited by sub class is called Base Class or Super class. \n",
        "## **Implementing Inheritance** \n",
        "For creating a sub-class which is inherited from the base class we have to follow the below syntax. "
      ],
      "metadata": {
        "id": "3b6AbG5sMjow"
      }
    },
    {
      "cell_type": "code",
      "source": [
        "Syntax:\n",
        "\n",
        "class subclass_name : access_mode base_class_name\n",
        "{\n",
        "  // body of subclass\n",
        "};\n"
      ],
      "metadata": {
        "id": "8zxmCOrqNQa8"
      },
      "execution_count": null,
      "outputs": []
    },
    {
      "cell_type": "markdown",
      "source": [
        "## **Example for Inheritance**"
      ],
      "metadata": {
        "id": "BAiTxNH9O9vN"
      }
    },
    {
      "cell_type": "code",
      "source": [
        "%%writefile main.cpp\n",
        "\n",
        "#include <bits/stdc++.h>\n",
        "using namespace std;\n",
        " \n",
        "// Base class\n",
        "class Parent\n",
        "{\n",
        "  public:\n",
        "    int id_p;\n",
        "};\n",
        "  \n",
        "// Sub class inheriting from Base Class(Parent)\n",
        "class Child : public Parent\n",
        "{\n",
        "  public:\n",
        "    int id_c;\n",
        "};\n",
        " \n",
        "// main function\n",
        "int main()\n",
        "{\n",
        "    Child obj1;\n",
        "          \n",
        "    // An object of class child has all data members\n",
        "    // and member functions of class parent\n",
        "    obj1.id_c = 7;\n",
        "    obj1.id_p = 91;\n",
        "    cout << \"Child id is: \" <<  obj1.id_c << '\\n';\n",
        "    cout << \"Parent id is: \" <<  obj1.id_p << '\\n';\n",
        "         \n",
        "    return 0;\n",
        "}"
      ],
      "metadata": {
        "colab": {
          "base_uri": "https://localhost:8080/"
        },
        "id": "w_HfVHF8PE0c",
        "outputId": "8555e33d-c419-4f47-867a-b94e0589d54f"
      },
      "execution_count": 14,
      "outputs": [
        {
          "output_type": "stream",
          "name": "stdout",
          "text": [
            "Overwriting main.cpp\n"
          ]
        }
      ]
    },
    {
      "cell_type": "code",
      "source": [
        "%%script bash\n",
        "\n",
        "g++ main.cpp -std=c++11\n",
        "./a.out"
      ],
      "metadata": {
        "colab": {
          "base_uri": "https://localhost:8080/"
        },
        "id": "kgH8u0gLPR-0",
        "outputId": "b328562f-4fe2-4949-d0dd-f24039946340"
      },
      "execution_count": 15,
      "outputs": [
        {
          "output_type": "stream",
          "name": "stdout",
          "text": [
            "Child id is: 7\n",
            "Parent id is: 91\n"
          ]
        }
      ]
    }
  ]
}