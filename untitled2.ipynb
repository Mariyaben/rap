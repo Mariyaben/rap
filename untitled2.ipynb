{
  "nbformat": 4,
  "nbformat_minor": 0,
  "metadata": {
    "colab": {
      "name": "Untitled2.ipynb",
      "provenance": [],
      "authorship_tag": "ABX9TyOq6HWDii7WclUWKs72GaMT"
    },
    "kernelspec": {
      "name": "python3",
      "display_name": "Python 3"
    },
    "language_info": {
      "name": "python"
    }
  },
  "cells": [
    {
      "cell_type": "code",
      "source": [
        "# Python program to reverse a number\n",
        "\n",
        "n = 8644\n",
        "rev = 0\n",
        "\n",
        "while(n > 0):\n",
        "\ta = n % 10\n",
        "\trev = rev * 10 + a\n",
        "\tn = n // 10\n",
        "\n",
        "print(rev)\n",
        "\n"
      ],
      "metadata": {
        "colab": {
          "base_uri": "https://localhost:8080/",
          "height": 0
        },
        "id": "fLCsb3z-wQV7",
        "outputId": "a8b8f2c0-20ce-4e5c-a944-b62c51ea6f26"
      },
      "execution_count": 3,
      "outputs": [
        {
          "output_type": "stream",
          "name": "stdout",
          "text": [
            "4468\n"
          ]
        }
      ]
    },
    {
      "cell_type": "code",
      "execution_count": 1,
      "metadata": {
        "colab": {
          "base_uri": "https://localhost:8080/",
          "height": 0
        },
        "id": "LOfhRuV4vgqH",
        "outputId": "d92ac19d-accd-49df-97bd-efe73ecc6578"
      },
      "outputs": [
        {
          "output_type": "stream",
          "name": "stdout",
          "text": [
            "The sum is 136\n"
          ]
        }
      ],
      "source": [
        "# Sum of natural numbers up to num\n",
        "\n",
        "num = 19\n",
        "\n",
        "if num < 0:\n",
        "   print(\"Enter a positive number\")\n",
        "else:\n",
        "   sum = 0\n",
        "   while(num > 0):\n",
        "       sum += num\n",
        "       num -= 1\n",
        "   print(\"The sum is\", sum)\n"
      ]
    },
    {
      "cell_type": "code",
      "source": [
        "# Program to find the sum of factors of a number\n",
        "n = int(input(\"Enter number\"))\n",
        "\n",
        "def sum_ (n):\n",
        "  s=0\n",
        "  for i in range(1,n+1):\n",
        "    if n%i==0 :\n",
        "      s += i\n",
        "  return s\n",
        "  \n",
        "print('sum: ' + str(sum_(n)))"
      ],
      "metadata": {
        "colab": {
          "base_uri": "https://localhost:8080/",
          "height": 0
        },
        "id": "8BVHvLJWwPgM",
        "outputId": "d8066a25-0483-43fd-eea0-c2ca194a2d9b"
      },
      "execution_count": 4,
      "outputs": [
        {
          "output_type": "stream",
          "name": "stdout",
          "text": [
            "Enter number75\n",
            "sum: 124\n"
          ]
        }
      ]
    },
    {
      "cell_type": "code",
      "source": [
        "# Program to print fibonacci series upto n terms in python\n",
        "num = int(input(\"Enter the Number:\"))\n",
        "n1, n2 = 0, 1\n",
        "print(\"Fibonacci Series:\", n1, n2, end=\" \")\n",
        "for i in range(2, num):\n",
        "    n3 = n1 + n2\n",
        "    n1 = n2\n",
        "    n2 = n3\n",
        "    print(n3, end=\" \")\n",
        "\n",
        "print()"
      ],
      "metadata": {
        "colab": {
          "base_uri": "https://localhost:8080/"
        },
        "id": "OuXRKzg9wz8S",
        "outputId": "b26b2993-622f-41aa-bd14-190e3c7b441f"
      },
      "execution_count": 5,
      "outputs": [
        {
          "output_type": "stream",
          "name": "stdout",
          "text": [
            "Enter the Number:7\n",
            "Fibonacci Series: 0 1 1 2 3 5 8 \n"
          ]
        }
      ]
    },
    {
      "cell_type": "code",
      "source": [
        "n=int(input(\"Enter number:\"))\n",
        "temp=n\n",
        "rev=0\n",
        "while(n>0):\n",
        "    dig=n%10\n",
        "    rev=rev*10+dig\n",
        "    n=n//10\n",
        "if(temp==rev):\n",
        "    print(\"The number is a palindrome!\")\n",
        "else:\n",
        "    print(\"The number isn't a palindrome!\")"
      ],
      "metadata": {
        "colab": {
          "base_uri": "https://localhost:8080/"
        },
        "id": "gmn67OR9xjNR",
        "outputId": "39a3d007-9bc3-4882-ac14-e4df59c9604e"
      },
      "execution_count": 6,
      "outputs": [
        {
          "output_type": "stream",
          "name": "stdout",
          "text": [
            "Enter number:121\n",
            "The number is a palindrome!\n"
          ]
        }
      ]
    },
    {
      "cell_type": "code",
      "source": [
        "# Python program to check if the number is an Armstrong number or not\n",
        "\n",
        "num = int(input(\"Enter a number: \"))\n",
        "\n",
        "sum = 0\n",
        "\n",
        "temp = num\n",
        "while temp > 0:\n",
        "   digit = temp % 10\n",
        "   sum += digit ** 3\n",
        "   temp //= 10\n",
        "if num == sum:\n",
        "   print(num,\"is an Armstrong number\")\n",
        "else:\n",
        "   print(num,\"is not an Armstrong number\")\n"
      ],
      "metadata": {
        "colab": {
          "base_uri": "https://localhost:8080/"
        },
        "id": "H4Dmu1R0xvDs",
        "outputId": "0e6d4ca3-671e-4b2e-e9d7-4bbae9831889"
      },
      "execution_count": 7,
      "outputs": [
        {
          "output_type": "stream",
          "name": "stdout",
          "text": [
            "Enter a number: 678\n",
            "678 is not an Armstrong number\n"
          ]
        }
      ]
    },
    {
      "cell_type": "code",
      "source": [
        "base = 8\n",
        "exponent = 2\n",
        "\n",
        "result = 1\n",
        "\n",
        "while exponent != 0:\n",
        "    result *= base\n",
        "    exponent-=1\n",
        "\n",
        "print(\"Answer = \" + str(result))"
      ],
      "metadata": {
        "colab": {
          "base_uri": "https://localhost:8080/"
        },
        "id": "UlFNzvPgyLU6",
        "outputId": "36cf405e-2814-4739-e271-24d127563574"
      },
      "execution_count": 8,
      "outputs": [
        {
          "output_type": "stream",
          "name": "stdout",
          "text": [
            "Answer = 64\n"
          ]
        }
      ]
    },
    {
      "cell_type": "code",
      "source": [
        "# Python Program to Print Odd Numbers from 1 to N\n",
        "\n",
        "maximum = int(input(\" Please Enter any Maximum Value : \"))\n",
        "\n",
        "for number in range(1, maximum + 1):\n",
        "    if(number % 2 != 0):\n",
        "        print(\"{0}\".format(number))"
      ],
      "metadata": {
        "colab": {
          "base_uri": "https://localhost:8080/"
        },
        "id": "NmvpO2IJyhit",
        "outputId": "60d2b47a-c731-40b6-d4f9-8bd952d2d250"
      },
      "execution_count": 9,
      "outputs": [
        {
          "output_type": "stream",
          "name": "stdout",
          "text": [
            " Please Enter any Maximum Value : 25\n",
            "1\n",
            "3\n",
            "5\n",
            "7\n",
            "9\n",
            "11\n",
            "13\n",
            "15\n",
            "17\n",
            "19\n",
            "21\n",
            "23\n",
            "25\n"
          ]
        }
      ]
    },
    {
      "cell_type": "code",
      "source": [
        "# Python Program to find GCD of Two Numbers using While loop\n",
        "num1 = int(input(\"Enter 1st number: \"))\n",
        "num2 = int(input(\"Enter 2nd number: \"))\n",
        "i = 1\n",
        "while(i <= num1 and i <= num2):\n",
        "  if(num1 % i == 0 and num2 % i == 0):\n",
        "    gcd = i\n",
        "  i = i + 1\n",
        "print(\"GCD is\", gcd)"
      ],
      "metadata": {
        "colab": {
          "base_uri": "https://localhost:8080/"
        },
        "id": "yyJY-3H0ywFW",
        "outputId": "48387f71-35d9-457d-9422-afab062e18cb"
      },
      "execution_count": 11,
      "outputs": [
        {
          "output_type": "stream",
          "name": "stdout",
          "text": [
            "Enter 1st number: 66\n",
            "Enter 2nd number: 6\n",
            "GCD is 6\n"
          ]
        }
      ]
    },
    {
      "cell_type": "code",
      "source": [
        "# Python program to find the factorial of a number provided by the user.\n",
        "\n",
        "num = 8\n",
        "factorial = 1\n",
        "if num < 0:\n",
        "   print(\"Sorry, factorial does not exist for negative numbers\")\n",
        "elif num == 0:\n",
        "   print(\"The factorial of 0 is 1\")\n",
        "else:\n",
        "   for i in range(1,num + 1):\n",
        "       factorial = factorial*i\n",
        "   print(\"The factorial of\",num,\"is\",factorial)\n"
      ],
      "metadata": {
        "colab": {
          "base_uri": "https://localhost:8080/"
        },
        "id": "KK32KAnFzAgJ",
        "outputId": "6f6af1fd-3e7e-4a73-f0c6-ab617a827371"
      },
      "execution_count": 13,
      "outputs": [
        {
          "output_type": "stream",
          "name": "stdout",
          "text": [
            "The factorial of 8 is 40320\n"
          ]
        }
      ]
    },
    {
      "cell_type": "code",
      "source": [
        "n = int(input(\"Enter nth number : \"))\n",
        "sum = 0\n",
        "for s in range(1, n+1):\n",
        "   sum = sum + (s*s)\n",
        "print(\"Sum of squares is : \", sum)"
      ],
      "metadata": {
        "colab": {
          "base_uri": "https://localhost:8080/"
        },
        "id": "9lmHB4vJzaBc",
        "outputId": "405929ad-0604-4496-d2bd-7bac398de443"
      },
      "execution_count": 14,
      "outputs": [
        {
          "output_type": "stream",
          "name": "stdout",
          "text": [
            "Enter nth number : 7\n",
            "Sum of squares is :  140\n"
          ]
        }
      ]
    },
    {
      "cell_type": "code",
      "source": [
        "num = int(input(\"Enter a number you want to check: \\n\"))  \n",
        "num_of_digits = len(str(num))  \n",
        "square = num**2  \n",
        "last_digits = square%pow(10,num_of_digits) \n",
        "if last_digits == num:  \n",
        "  print(\"Yes, {} is an automorphic number\".format(num))  \n",
        "else:  \n",
        "  print(\"No, {} is not an automorphic number\".format(num))  "
      ],
      "metadata": {
        "colab": {
          "base_uri": "https://localhost:8080/"
        },
        "id": "0tAGZh-kzjmQ",
        "outputId": "6477aa09-1e8c-4d17-d801-4f9adbecbf78"
      },
      "execution_count": 16,
      "outputs": [
        {
          "output_type": "stream",
          "name": "stdout",
          "text": [
            "Enter a number you want to check: \n",
            "67\n",
            "No, 67 is not an automorphic number\n"
          ]
        }
      ]
    },
    {
      "cell_type": "code",
      "source": [
        "b_num = list(input(\"Input a binary number: \"))\n",
        "value = 0\n",
        "\n",
        "for i in range(len(b_num)):\n",
        "\tdigit = b_num.pop()\n",
        "\tif digit == '1':\n",
        "\t\tvalue = value + pow(2, i)\n",
        "print(\"The decimal value of the number is\", value)"
      ],
      "metadata": {
        "colab": {
          "base_uri": "https://localhost:8080/"
        },
        "id": "hsxg_Z_20Pvl",
        "outputId": "7acdd156-963f-431d-b382-0adbdf566366"
      },
      "execution_count": 17,
      "outputs": [
        {
          "output_type": "stream",
          "name": "stdout",
          "text": [
            "Input a binary number: 010\n",
            "The decimal value of the number is 2\n"
          ]
        }
      ]
    }
  ]
}