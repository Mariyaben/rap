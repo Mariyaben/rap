{
  "nbformat": 4,
  "nbformat_minor": 0,
  "metadata": {
    "colab": {
      "name": "Untitled3.ipynb",
      "provenance": [],
      "authorship_tag": "ABX9TyPnN+J+VhCKDvESbz4kX9lB",
      "include_colab_link": true
    },
    "kernelspec": {
      "name": "python3",
      "display_name": "Python 3"
    },
    "language_info": {
      "name": "python"
    }
  },
  "cells": [
    {
      "cell_type": "markdown",
      "metadata": {
        "id": "view-in-github",
        "colab_type": "text"
      },
      "source": [
        "<a href=\"https://colab.research.google.com/github/Mariyaben/rap/blob/main/Branching.ipynb\" target=\"_parent\"><img src=\"https://colab.research.google.com/assets/colab-badge.svg\" alt=\"Open In Colab\"/></a>"
      ]
    },
    {
      "cell_type": "markdown",
      "source": [
        "# **Branching Problems**"
      ],
      "metadata": {
        "id": "Hi0l0x6s7DO1"
      }
    },
    {
      "cell_type": "code",
      "execution_count": 1,
      "metadata": {
        "colab": {
          "base_uri": "https://localhost:8080/"
        },
        "id": "CDnW2yUL2_tF",
        "outputId": "11ee019b-1343-4856-e3b2-9d1a8fe83924"
      },
      "outputs": [
        {
          "output_type": "stream",
          "name": "stdout",
          "text": [
            "Enter the first number: 77\n",
            "Enter the second number: 10000\n",
            "10000 is greater\n"
          ]
        }
      ],
      "source": [
        "# Python program to find the greatest of two numbers using the built-in function\n",
        "num1 = int(input(\"Enter the first number: \"))\n",
        "num2 = int(input(\"Enter the second number: \"))\n",
        "print(max(num1, num2), \"is greater\")"
      ]
    },
    {
      "cell_type": "code",
      "source": [
        "#Program to find smallest of three numbers\n",
        "a = int(input('Enter first number  : '))\n",
        "b = int(input('Enter second number : '))\n",
        "c = int(input('Enter third number  : '))\n",
        "\n",
        "smallest = 0\n",
        "\n",
        "if a < b and a < c :\n",
        "    smallest = a\n",
        "if b < a and b < c :\n",
        "    smallest = b\n",
        "if c < a and c < b :\n",
        "    smallest = c\n",
        "\n",
        "print(smallest, \"is the smallest of three numbers.\")"
      ],
      "metadata": {
        "colab": {
          "base_uri": "https://localhost:8080/"
        },
        "id": "zG9BwtM53LEL",
        "outputId": "70a2a92b-ade3-4448-f6f6-ca1f877420cc"
      },
      "execution_count": 2,
      "outputs": [
        {
          "output_type": "stream",
          "name": "stdout",
          "text": [
            "Enter first number  : 77\n",
            "Enter second number : 99\n",
            "Enter third number  : 33\n",
            "33 is the smallest of three numbers.\n"
          ]
        }
      ]
    },
    {
      "cell_type": "code",
      "source": [
        "#Program to check if a number is positive, negative or zero\n",
        "num = float(input(\"Enter a number: \"))\n",
        "if num > 0:\n",
        "   print(\"Positive number\")\n",
        "elif num == 0:\n",
        "   print(\"Zero\")\n",
        "else:\n",
        "   print(\"Negative number\")\n"
      ],
      "metadata": {
        "colab": {
          "base_uri": "https://localhost:8080/"
        },
        "id": "_VX-OUfU3VPg",
        "outputId": "bdd25fd6-4656-4cc9-8bf8-e4c29298d697"
      },
      "execution_count": 3,
      "outputs": [
        {
          "output_type": "stream",
          "name": "stdout",
          "text": [
            "Enter a number: 0\n",
            "Zero\n"
          ]
        }
      ]
    },
    {
      "cell_type": "code",
      "source": [
        "#Programm to find smallest digit in a two digit number\t\t\n",
        "\t\t\t\t\t\n",
        "num1=int(input(\"Enter your first number:\"))\n",
        "num2=int(input(\"Enter your second number: \"))\n",
        "if(num1<num2):\n",
        "    print(\"{} is smallest\".format(num1))\n",
        "elif(num2<num1):\n",
        "    print(\"{} is smallest\".format(num2))\n",
        "else:\n",
        "    print(\"{} and {} are equal\".format(num1,num2))"
      ],
      "metadata": {
        "colab": {
          "base_uri": "https://localhost:8080/"
        },
        "id": "gbbtrcKY4t5U",
        "outputId": "3f592d3a-33f0-4c9a-ff2e-096c23d79006"
      },
      "execution_count": 11,
      "outputs": [
        {
          "output_type": "stream",
          "name": "stdout",
          "text": [
            "Enter your first number:7\n",
            "Enter your second number: 3\n",
            "3 is smallest\n"
          ]
        }
      ]
    },
    {
      "cell_type": "code",
      "source": [
        "#Program to check if a number is two digit or not\t\t\t\t\t\n",
        "num1=int(input(\"Enter your number:\"))\n",
        "if(num1 < 100 and num1 > 9):\n",
        "    print(\"{} is a 2 digit number \".format(num1))\n",
        "else:\n",
        "    print(\"{} is not a 2 digit number\".format(num1))"
      ],
      "metadata": {
        "colab": {
          "base_uri": "https://localhost:8080/"
        },
        "id": "xGWXbH645cAA",
        "outputId": "48d71da2-624f-4e47-8175-171c9fe27c4f"
      },
      "execution_count": 10,
      "outputs": [
        {
          "output_type": "stream",
          "name": "stdout",
          "text": [
            "Enter your number:66\n",
            "66 is a 2 digit number \n"
          ]
        }
      ]
    }
  ]
}